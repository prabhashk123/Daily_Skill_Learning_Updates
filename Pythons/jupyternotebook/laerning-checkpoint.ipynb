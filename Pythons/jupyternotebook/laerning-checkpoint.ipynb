{
 "cells": [
  {
   "cell_type": "code",
   "execution_count": 1,
   "id": "5b831ea2",
   "metadata": {},
   "outputs": [
    {
     "name": "stdout",
     "output_type": "stream",
     "text": [
      "Total= 1500\n",
      "average= 300.0\n"
     ]
    }
   ],
   "source": [
    "def Calculate_sum(list_of_expnediture):\n",
    "    total=0\n",
    "    try:\n",
    "        for expnediture in list_of_expnediture:\n",
    "            total+=expnediture\n",
    "        print('Total=',total)\n",
    "        avg=total/num_values\n",
    "        print(\"average=\",avg)\n",
    "    except ZeroDivisionError:\n",
    "            print(\"Divide by zero error\")\n",
    "    except TypeError:\n",
    "            print(\"Wrong data types\")\n",
    "try:\n",
    "    list_of_values=[100,200,300,400,500]\n",
    "    num_values=len(list_of_values)\n",
    "    Calculate_sum(list_of_values)\n",
    "except NameError:\n",
    "    print(\"Name error occured\")\n",
    "except:\n",
    "    print(\"Some error occured\")"
   ]
  },
  {
   "cell_type": "code",
   "execution_count": 3,
   "id": "36fde2c4",
   "metadata": {},
   "outputs": [
    {
     "ename": "IndentationError",
     "evalue": "unexpected indent (4276774343.py, line 11)",
     "output_type": "error",
     "traceback": [
      "\u001b[1;36m  Cell \u001b[1;32mIn[3], line 11\u001b[1;36m\u001b[0m\n\u001b[1;33m    break\u001b[0m\n\u001b[1;37m    ^\u001b[0m\n\u001b[1;31mIndentationError\u001b[0m\u001b[1;31m:\u001b[0m unexpected indent\n"
     ]
    }
   ],
   "source": [
    "balance=1000\n",
    "while(True):\n",
    "    amount=int(input(\"Enter the amount \"))\n",
    "    def take_card():\n",
    "        print(\"Take out the card from atm\")\n",
    "    try:\n",
    "        if (balance>amount):\n",
    "            print(\"Successfully Withdraw\")\n",
    "        elif (balance==amount):\n",
    "            print(\"Please enter below amount\")\n",
    "            break\n",
    "        else:\n",
    "            print(\"Insufficent Balnace\")\n",
    "    except TypeError:\n",
    "        print(\"Type error occured\")\n",
    "    except ValueError:\n",
    "        print(\"Value error occured\")\n",
    "    except:\n",
    "        print(\"Some error occured\")\n",
    "    finally:\n",
    "        take_card()\n",
    "       \n",
    "        \n",
    "\n",
    "            "
   ]
  },
  {
   "cell_type": "code",
   "execution_count": null,
   "id": "63425d5e",
   "metadata": {},
   "outputs": [],
   "source": []
  },
  {
   "cell_type": "code",
   "execution_count": null,
   "id": "943a62de",
   "metadata": {},
   "outputs": [],
   "source": []
  }
 ],
 "metadata": {
  "kernelspec": {
   "display_name": "Python 3 (ipykernel)",
   "language": "python",
   "name": "python3"
  },
  "language_info": {
   "codemirror_mode": {
    "name": "ipython",
    "version": 3
   },
   "file_extension": ".py",
   "mimetype": "text/x-python",
   "name": "python",
   "nbconvert_exporter": "python",
   "pygments_lexer": "ipython3",
   "version": "3.11.2"
  }
 },
 "nbformat": 4,
 "nbformat_minor": 5
}
