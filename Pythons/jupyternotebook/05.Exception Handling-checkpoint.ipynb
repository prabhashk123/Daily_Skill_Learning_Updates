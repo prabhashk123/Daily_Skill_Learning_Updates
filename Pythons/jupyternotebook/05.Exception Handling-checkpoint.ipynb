{
 "cells": [
  {
   "cell_type": "markdown",
   "id": "0443048f",
   "metadata": {},
   "source": [
    "## Exception Handling"
   ]
  },
  {
   "cell_type": "markdown",
   "id": "b07f7e9d",
   "metadata": {},
   "source": [
    "### Exception"
   ]
  },
  {
   "cell_type": "code",
   "execution_count": 2,
   "id": "6a7a397c",
   "metadata": {},
   "outputs": [
    {
     "ename": "ZeroDivisionError",
     "evalue": "division by zero",
     "output_type": "error",
     "traceback": [
      "\u001b[1;31m---------------------------------------------------------------------------\u001b[0m",
      "\u001b[1;31mZeroDivisionError\u001b[0m                         Traceback (most recent call last)",
      "Cell \u001b[1;32mIn[2], line 3\u001b[0m\n\u001b[0;32m      1\u001b[0m a\u001b[38;5;241m=\u001b[39m\u001b[38;5;241m10\u001b[39m\n\u001b[0;32m      2\u001b[0m b\u001b[38;5;241m=\u001b[39m\u001b[38;5;241m0\u001b[39m\n\u001b[1;32m----> 3\u001b[0m c\u001b[38;5;241m=\u001b[39m\u001b[43ma\u001b[49m\u001b[38;5;241;43m/\u001b[39;49m\u001b[43mb\u001b[49m\n\u001b[0;32m      5\u001b[0m \u001b[38;5;28mprint\u001b[39m(\u001b[38;5;124m\"\u001b[39m\u001b[38;5;124mend\u001b[39m\u001b[38;5;124m\"\u001b[39m)\n",
      "\u001b[1;31mZeroDivisionError\u001b[0m: division by zero"
     ]
    }
   ],
   "source": [
    "a=10\n",
    "b=0\n",
    "c=a/b\n",
    "\n",
    "print(\"end\")\n"
   ]
  },
  {
   "cell_type": "markdown",
   "id": "92bc20fb",
   "metadata": {},
   "source": [
    "### Handling Exception"
   ]
  },
  {
   "cell_type": "code",
   "execution_count": 3,
   "id": "22e5588c",
   "metadata": {},
   "outputs": [
    {
     "name": "stdout",
     "output_type": "stream",
     "text": [
      "something wrong!\n",
      "end\n"
     ]
    },
    {
     "data": {
      "text/plain": [
       "'try:\\n    #code where some exceptional event could occur\\nexcept:\\n    # code to handle exceptional event\\n'"
      ]
     },
     "execution_count": 3,
     "metadata": {},
     "output_type": "execute_result"
    }
   ],
   "source": [
    "try:\n",
    "    a=10\n",
    "    b=0\n",
    "    c=a/b\n",
    "    print(\"in try\")\n",
    "except:\n",
    "    print(\"something wrong!\")\n",
    "print(\"end\")\n",
    "\n",
    "'''try:\n",
    "    #code where some exceptional event could occur\n",
    "except:\n",
    "    # code to handle exceptional event\n",
    "'''"
   ]
  },
  {
   "cell_type": "markdown",
   "id": "a501ece2",
   "metadata": {},
   "source": [
    "### Multiple Handlers"
   ]
  },
  {
   "cell_type": "code",
   "execution_count": 4,
   "id": "6e2a7842",
   "metadata": {},
   "outputs": [
    {
     "name": "stdout",
     "output_type": "stream",
     "text": [
      "unsupported operand type(s)\n"
     ]
    }
   ],
   "source": [
    "try:\n",
    "    d=10\n",
    "    b=\"Zero\"\n",
    "    c=d/b # TypeError\n",
    "except ZeroDivisionError:\n",
    "    print(\"division by zero\")\n",
    "except TypeError:\n",
    "    print(\"unsupported operand type(s)\")\n",
    "except NameError:\n",
    "    print(\"Variable not defined\")\n",
    "except IndexError:\n",
    "    print(\"Index out of bound\")\n",
    "except ValueError:\n",
    "    print(\"Invalid type of data\")\n",
    "except:\n",
    "    print(\"something wrong!\")"
   ]
  },
  {
   "cell_type": "code",
   "execution_count": 5,
   "id": "1eca7239",
   "metadata": {},
   "outputs": [
    {
     "name": "stdout",
     "output_type": "stream",
     "text": [
      "division by zero\n"
     ]
    }
   ],
   "source": [
    "try:\n",
    "    d=10\n",
    "    b=0\n",
    "    c=d/b\n",
    "except ZeroDivisionError:\n",
    "    print(\"division by zero\")\n",
    "except TypeError:\n",
    "    print(\"unsupported operand type(s)\",d)\n",
    "except NameError:\n",
    "    print(\"Variable not defined\")\n",
    "except IndexError:\n",
    "    print(\"Index out of bound\")\n",
    "except ValueError:\n",
    "    print(\"Invalid type of data\")\n",
    "except:\n",
    "    print(\"something wrong!\")"
   ]
  },
  {
   "cell_type": "code",
   "execution_count": 6,
   "id": "fa5a32c4",
   "metadata": {},
   "outputs": [
    {
     "name": "stdout",
     "output_type": "stream",
     "text": [
      "Variable name not defined\n"
     ]
    }
   ],
   "source": [
    "try:\n",
    "    d=10\n",
    "    b=0\n",
    "    c=f/b\n",
    "except ZeroDivisionError:\n",
    "    print(\"division by zero\")\n",
    "except TypeError:\n",
    "    print(\"unsupported operand type(s)\",d)\n",
    "except NameError:\n",
    "    print(\"Variable name not defined\")\n",
    "except IndexError:\n",
    "    print(\"Index out of bound\")\n",
    "except ValueError:\n",
    "    print(\"Invalid type of data\")\n",
    "except:\n",
    "    print(\"something wrong!\")"
   ]
  },
  {
   "cell_type": "code",
   "execution_count": 7,
   "id": "b172bf63",
   "metadata": {},
   "outputs": [
    {
     "name": "stdout",
     "output_type": "stream",
     "text": [
      "Index out of bound\n"
     ]
    }
   ],
   "source": [
    "try:\n",
    "    l1=[10,20,30,40,50]\n",
    "    #   0   1  2  3  4\n",
    "    l1[5]\n",
    "except ZeroDivisionError:\n",
    "    print(\"division by zero\")\n",
    "except TypeError:\n",
    "    print(\"unsupported operand type(s)\",d)\n",
    "except NameError:\n",
    "    print(\"Variable not defined\")\n",
    "except IndexError:\n",
    "    print(\"Index out of bound\")\n",
    "except ValueError:\n",
    "    print(\"Invalid type of data\")\n",
    "except:\n",
    "    print(\"something wrong!\")"
   ]
  },
  {
   "cell_type": "code",
   "execution_count": null,
   "id": "dd589aaf",
   "metadata": {},
   "outputs": [],
   "source": [
    "try:\n",
    "    a=10\n",
    "    b=\"Hello\"\n",
    "    c=int(b)\n",
    "except ZeroDivisionError:\n",
    "    print(\"division by zero\")\n",
    "except TypeError:\n",
    "    print(\"unsupported operand type(s)\")\n",
    "except NameError:\n",
    "    print(\"Variable not defined\")\n",
    "except IndexError:\n",
    "    print(\"Index out of bound\")\n",
    "except ValueError:\n",
    "    print(\"Invalid type of data\")\n",
    "except:\n",
    "    print(\"something wrong!\")"
   ]
  },
  {
   "cell_type": "markdown",
   "id": "390ec9bf",
   "metadata": {},
   "source": [
    "### Finally block"
   ]
  },
  {
   "cell_type": "code",
   "execution_count": null,
   "id": "5d28e690",
   "metadata": {},
   "outputs": [],
   "source": [
    "try:\n",
    "    a=10\n",
    "    b=5\n",
    "    c=a//b\n",
    "    print(c)\n",
    "except:\n",
    "    print(\"something wrong!\")\n",
    "finally:\n",
    "    print(\"I am always executed\")\n",
    "print(\"end\")"
   ]
  },
  {
   "cell_type": "code",
   "execution_count": null,
   "id": "250aeedc",
   "metadata": {},
   "outputs": [],
   "source": [
    "try:\n",
    "    a=10\n",
    "    b=2\n",
    "    c=a/b\n",
    "    print(c)\n",
    "\n",
    "except:\n",
    "    print(\"something wrong!\")\n",
    "finally:\n",
    "    print(\"always executed\")"
   ]
  },
  {
   "cell_type": "code",
   "execution_count": null,
   "id": "8bf0d762",
   "metadata": {},
   "outputs": [],
   "source": [
    "a=\"keerthi\"\n",
    "b=10\n",
    "try:\n",
    "    c=a+b\n",
    "except TypeError:\n",
    "    print('TE')\n",
    "except ValueError:\n",
    "    print(\"VE\")\n",
    "except:\n",
    "    print(\"Error\")\n",
    "    "
   ]
  },
  {
   "cell_type": "code",
   "execution_count": null,
   "id": "a63a019b",
   "metadata": {},
   "outputs": [],
   "source": []
  }
 ],
 "metadata": {
  "kernelspec": {
   "display_name": "Python 3 (ipykernel)",
   "language": "python",
   "name": "python3"
  },
  "language_info": {
   "codemirror_mode": {
    "name": "ipython",
    "version": 3
   },
   "file_extension": ".py",
   "mimetype": "text/x-python",
   "name": "python",
   "nbconvert_exporter": "python",
   "pygments_lexer": "ipython3",
   "version": "3.11.2"
  }
 },
 "nbformat": 4,
 "nbformat_minor": 5
}
