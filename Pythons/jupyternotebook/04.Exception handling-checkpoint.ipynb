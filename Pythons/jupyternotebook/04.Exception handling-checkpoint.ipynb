{
 "cells": [
  {
   "cell_type": "code",
   "execution_count": 4,
   "id": "9dff0c8b",
   "metadata": {},
   "outputs": [
    {
     "ename": "TypeError",
     "evalue": "can only concatenate str (not \"int\") to str",
     "output_type": "error",
     "traceback": [
      "\u001b[1;31m---------------------------------------------------------------------------\u001b[0m",
      "\u001b[1;31mTypeError\u001b[0m                                 Traceback (most recent call last)",
      "Cell \u001b[1;32mIn[4], line 1\u001b[0m\n\u001b[1;32m----> 1\u001b[0m \u001b[38;5;124;43m\"\u001b[39;49m\u001b[38;5;124;43mstr\u001b[39;49m\u001b[38;5;124;43m\"\u001b[39;49m\u001b[43m \u001b[49m\u001b[38;5;241;43m+\u001b[39;49m\u001b[43m \u001b[49m\u001b[38;5;241;43m2\u001b[39;49m\n",
      "\u001b[1;31mTypeError\u001b[0m: can only concatenate str (not \"int\") to str"
     ]
    }
   ],
   "source": [
    "\"str\" + 2"
   ]
  },
  {
   "cell_type": "code",
   "execution_count": 2,
   "id": "b65750b7",
   "metadata": {},
   "outputs": [
    {
     "ename": "TypeError",
     "evalue": "unsupported operand type(s) for +=: 'int' and 'str'",
     "output_type": "error",
     "traceback": [
      "\u001b[1;31m---------------------------------------------------------------------------\u001b[0m",
      "\u001b[1;31mTypeError\u001b[0m                                 Traceback (most recent call last)",
      "\u001b[1;32m~\\AppData\\Local\\Temp/ipykernel_22828/1015327332.py\u001b[0m in \u001b[0;36m<module>\u001b[1;34m\u001b[0m\n\u001b[0;32m      5\u001b[0m     \u001b[0mprint\u001b[0m\u001b[1;33m(\u001b[0m\u001b[0mtotal\u001b[0m\u001b[1;33m)\u001b[0m\u001b[1;33m\u001b[0m\u001b[1;33m\u001b[0m\u001b[0m\n\u001b[0;32m      6\u001b[0m \u001b[0mlist_of_values\u001b[0m\u001b[1;33m=\u001b[0m\u001b[1;33m[\u001b[0m\u001b[1;36m100\u001b[0m\u001b[1;33m,\u001b[0m\u001b[1;36m200\u001b[0m\u001b[1;33m,\u001b[0m\u001b[1;36m300\u001b[0m\u001b[1;33m,\u001b[0m\u001b[1;34m\"400\"\u001b[0m\u001b[1;33m,\u001b[0m\u001b[1;36m500\u001b[0m\u001b[1;33m]\u001b[0m\u001b[1;33m\u001b[0m\u001b[1;33m\u001b[0m\u001b[0m\n\u001b[1;32m----> 7\u001b[1;33m \u001b[0mcalculate_expenditure\u001b[0m\u001b[1;33m(\u001b[0m\u001b[0mlist_of_values\u001b[0m\u001b[1;33m)\u001b[0m\u001b[1;33m\u001b[0m\u001b[1;33m\u001b[0m\u001b[0m\n\u001b[0m",
      "\u001b[1;32m~\\AppData\\Local\\Temp/ipykernel_22828/1015327332.py\u001b[0m in \u001b[0;36mcalculate_expenditure\u001b[1;34m(list_of_expenditure)\u001b[0m\n\u001b[0;32m      2\u001b[0m     \u001b[0mtotal\u001b[0m\u001b[1;33m=\u001b[0m\u001b[1;36m0\u001b[0m\u001b[1;33m\u001b[0m\u001b[1;33m\u001b[0m\u001b[0m\n\u001b[0;32m      3\u001b[0m     \u001b[1;32mfor\u001b[0m \u001b[0mexpenditure\u001b[0m \u001b[1;32min\u001b[0m \u001b[0mlist_of_expenditure\u001b[0m\u001b[1;33m:\u001b[0m\u001b[1;33m\u001b[0m\u001b[1;33m\u001b[0m\u001b[0m\n\u001b[1;32m----> 4\u001b[1;33m         \u001b[0mtotal\u001b[0m\u001b[1;33m+=\u001b[0m\u001b[0mexpenditure\u001b[0m\u001b[1;33m\u001b[0m\u001b[1;33m\u001b[0m\u001b[0m\n\u001b[0m\u001b[0;32m      5\u001b[0m     \u001b[0mprint\u001b[0m\u001b[1;33m(\u001b[0m\u001b[0mtotal\u001b[0m\u001b[1;33m)\u001b[0m\u001b[1;33m\u001b[0m\u001b[1;33m\u001b[0m\u001b[0m\n\u001b[0;32m      6\u001b[0m \u001b[0mlist_of_values\u001b[0m\u001b[1;33m=\u001b[0m\u001b[1;33m[\u001b[0m\u001b[1;36m100\u001b[0m\u001b[1;33m,\u001b[0m\u001b[1;36m200\u001b[0m\u001b[1;33m,\u001b[0m\u001b[1;36m300\u001b[0m\u001b[1;33m,\u001b[0m\u001b[1;34m\"400\"\u001b[0m\u001b[1;33m,\u001b[0m\u001b[1;36m500\u001b[0m\u001b[1;33m]\u001b[0m\u001b[1;33m\u001b[0m\u001b[1;33m\u001b[0m\u001b[0m\n",
      "\u001b[1;31mTypeError\u001b[0m: unsupported operand type(s) for +=: 'int' and 'str'"
     ]
    }
   ],
   "source": [
    "def calculate_expenditure(list_of_expenditure):\n",
    "    total=0\n",
    "    for expenditure in list_of_expenditure:\n",
    "        total+=expenditure\n",
    "    print(total)\n",
    "list_of_values=[100,200,300,\"400\",500]\n",
    "calculate_expenditure(list_of_values)\n"
   ]
  },
  {
   "cell_type": "code",
   "execution_count": 3,
   "id": "13a6dc10",
   "metadata": {},
   "outputs": [
    {
     "name": "stdout",
     "output_type": "stream",
     "text": [
      "Wrong data type\n",
      "600\n"
     ]
    }
   ],
   "source": [
    "def calculate_expenditure(list_of_expenditure):\n",
    "    total=0\n",
    "    for expenditure in list_of_expenditure:\n",
    "        if(type(expenditure) is int):\n",
    "            total+=expenditure\n",
    "        else:\n",
    "            print(\"Wrong data type\")\n",
    "            break\n",
    "    print(total)\n",
    "list_of_values=[100,200,300,\"400\",500]\n",
    "calculate_expenditure(list_of_values)\n"
   ]
  },
  {
   "cell_type": "code",
   "execution_count": 6,
   "id": "017366dd",
   "metadata": {},
   "outputs": [
    {
     "name": "stdout",
     "output_type": "stream",
     "text": [
      "1500\n",
      "Returning back from function.\n",
      "Program executed successfully\n",
      "XYZ\n"
     ]
    }
   ],
   "source": [
    "def calculate_expenditure(list_of_expenditure):\n",
    "    total=0\n",
    "    try:\n",
    "        for expenditure in list_of_expenditure:\n",
    "            total+=expenditure\n",
    "        print(total)\n",
    "    except:\n",
    "        print(\"Some error occured\")\n",
    "    print(\"Returning back from function.\")\n",
    "list_of_values=[100,200,\"300\",400,500]\n",
    "calculate_expenditure(list_of_values)\n",
    "print(\"Program executed successfully\")\n",
    "print(\"XYZ\")\n"
   ]
  },
  {
   "cell_type": "code",
   "execution_count": 7,
   "id": "e24558c5",
   "metadata": {},
   "outputs": [
    {
     "ename": "ZeroDivisionError",
     "evalue": "division by zero",
     "output_type": "error",
     "traceback": [
      "\u001b[1;31m---------------------------------------------------------------------------\u001b[0m",
      "\u001b[1;31mZeroDivisionError\u001b[0m                         Traceback (most recent call last)",
      "\u001b[1;32m~\\AppData\\Local\\Temp/ipykernel_22828/530406163.py\u001b[0m in \u001b[0;36m<module>\u001b[1;34m\u001b[0m\n\u001b[1;32m----> 1\u001b[1;33m \u001b[1;36m10\u001b[0m\u001b[1;33m/\u001b[0m\u001b[1;36m0\u001b[0m\u001b[1;33m\u001b[0m\u001b[1;33m\u001b[0m\u001b[0m\n\u001b[0m",
      "\u001b[1;31mZeroDivisionError\u001b[0m: division by zero"
     ]
    }
   ],
   "source": [
    "10/0"
   ]
  },
  {
   "cell_type": "code",
   "execution_count": 8,
   "id": "cfadd21c",
   "metadata": {},
   "outputs": [
    {
     "ename": "NameError",
     "evalue": "name 'x' is not defined",
     "output_type": "error",
     "traceback": [
      "\u001b[1;31m---------------------------------------------------------------------------\u001b[0m",
      "\u001b[1;31mNameError\u001b[0m                                 Traceback (most recent call last)",
      "\u001b[1;32m~\\AppData\\Local\\Temp/ipykernel_22828/1353120783.py\u001b[0m in \u001b[0;36m<module>\u001b[1;34m\u001b[0m\n\u001b[1;32m----> 1\u001b[1;33m \u001b[0mprint\u001b[0m\u001b[1;33m(\u001b[0m\u001b[0mx\u001b[0m\u001b[1;33m)\u001b[0m\u001b[1;33m\u001b[0m\u001b[1;33m\u001b[0m\u001b[0m\n\u001b[0m",
      "\u001b[1;31mNameError\u001b[0m: name 'x' is not defined"
     ]
    }
   ],
   "source": [
    "print(x)"
   ]
  },
  {
   "cell_type": "code",
   "execution_count": 9,
   "id": "53af2c81",
   "metadata": {},
   "outputs": [
    {
     "name": "stdout",
     "output_type": "stream",
     "text": [
      "Value Error\n"
     ]
    }
   ],
   "source": [
    "try:\n",
    "    s=\"k\"\n",
    "    int(s)  # Value Error\n",
    "    \n",
    "except ZeroDivisionError:\n",
    "    print(\"num cant be divided by zero\")\n",
    "except TypeError:\n",
    "    print(\"Type error\")\n",
    "except NameError:\n",
    "    print(\"Name error\")\n",
    "except IndexError:\n",
    "    print(\"Index out of bound\")\n",
    "except ValueError:\n",
    "    print(\"Value Error\")\n",
    "except:\n",
    "    print(\"some error occured\")\n",
    "    \n"
   ]
  },
  {
   "cell_type": "code",
   "execution_count": null,
   "id": "b1595d79",
   "metadata": {},
   "outputs": [],
   "source": [
    "def calculate_sum(list_of_expenditure):\n",
    "    total=0\n",
    "    try:\n",
    "        for expenditure in list_of_expenditure:\n",
    "            total+=expenditure\n",
    "        print(\"Total:\",total)\n",
    "        avg=total/num_values\n",
    "        print(\"Average:\",avg)\n",
    "    except ZeroDivisionError:\n",
    "        print(\"Divide by Zero error\")\n",
    "    except TypeError:\n",
    "        print(\"Wrong data type\")\n",
    "try:\n",
    "    list_of_values=[100,200,300,400,500]\n",
    "    num_values=len(list_of_values)\n",
    "    calculate_sum(list_of_values)\n",
    "except NameError:\n",
    "    print(\"Name error occured\")\n",
    "except:\n",
    "    print(\"Some error occured\")\n"
   ]
  },
  {
   "cell_type": "code",
   "execution_count": null,
   "id": "ea5ff2e6",
   "metadata": {},
   "outputs": [],
   "source": [
    "balance=1000\n",
    "while(True):\n",
    "    amount=input(\"Enter the amount\")\n",
    "    def take_card():\n",
    "        print(\"Take the card out of ATM\")\n",
    "    try:\n",
    "        if balance>=int(amount):\n",
    "            print(\"Withdraw\")\n",
    "        else:\n",
    "            print(\"Invalid amount\")\n",
    "    except TypeError:\n",
    "        print(\"Type Error Occurred\")\n",
    "    except ValueError:\n",
    "        print(\"Value Error Occurred\")\n",
    "    except:\n",
    "        print(\"Some error Occurred\")\n",
    "    finally:\n",
    "        take_card()\n"
   ]
  }
 ],
 "metadata": {
  "kernelspec": {
   "display_name": "Python 3 (ipykernel)",
   "language": "python",
   "name": "python3"
  },
  "language_info": {
   "codemirror_mode": {
    "name": "ipython",
    "version": 3
   },
   "file_extension": ".py",
   "mimetype": "text/x-python",
   "name": "python",
   "nbconvert_exporter": "python",
   "pygments_lexer": "ipython3",
   "version": "3.11.2"
  }
 },
 "nbformat": 4,
 "nbformat_minor": 5
}
