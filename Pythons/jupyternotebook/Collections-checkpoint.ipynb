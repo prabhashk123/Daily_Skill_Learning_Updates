{
 "cells": [
  {
   "cell_type": "code",
   "execution_count": null,
   "id": "4c5a99f1",
   "metadata": {},
   "outputs": [],
   "source": [
    "### Collections:\n",
    " + -> do the concatenation\n",
    "1. List\n",
    "   used to store a group of elements\n",
    "   homogeneous as well as heterogenous data\n",
    "   [int values], [int and string]\n",
    "   mutable\n",
    "   list = [1,4,7] -> change the element or add a new \n",
    "2. Tuple -> ()\n",
    "   similar to list\n",
    "   immutable\n",
    "   tuple = (2,6,9) -> change the element at index 0 -> will not be possible\n",
    "                   -> add a new element -> possible\n",
    "   tuple1 = (3,)\n",
    "   tuple = tuple + tuple1\n",
    "  func(a, *b)\n",
    "   for i in 1,3,4\n",
    "3. String\n",
    "4. Set\n",
    "5. Dictionary"
   ]
  },
  {
   "cell_type": "markdown",
   "id": "30526257",
   "metadata": {},
   "source": [
    "### List\n",
    "List can be used to store a group of elements together in a sequence."
   ]
  },
  {
   "cell_type": "code",
   "execution_count": 1,
   "id": "344d153d",
   "metadata": {},
   "outputs": [
    {
     "name": "stdout",
     "output_type": "stream",
     "text": [
      "<class 'list'>\n"
     ]
    }
   ],
   "source": [
    "list1 = []   #Creating empty list\n",
    "print(type(list1))"
   ]
  },
  {
   "cell_type": "code",
   "execution_count": 2,
   "id": "bc84de30",
   "metadata": {},
   "outputs": [
    {
     "name": "stdout",
     "output_type": "stream",
     "text": [
      "['Python', 11, 1.5]\n"
     ]
    },
    {
     "data": {
      "text/plain": [
       "1.5"
      ]
     },
     "execution_count": 2,
     "metadata": {},
     "output_type": "execute_result"
    }
   ],
   "source": [
    "list2 = ['Python',11, 1.5] # Heterogenous data\n",
    "   #       0      1    2\n",
    "   #      -3     -2   -1\n",
    "print(list2)\n",
    "list2[-1]"
   ]
  },
  {
   "cell_type": "code",
   "execution_count": null,
   "id": "2d214d41",
   "metadata": {},
   "outputs": [],
   "source": [
    "l = [1 , 2 , [3,6]]\n",
    "#             0 1\n",
    "#    0   1    2\n",
    "print(l[2][0])"
   ]
  },
  {
   "cell_type": "code",
   "execution_count": null,
   "id": "2464c73b",
   "metadata": {},
   "outputs": [],
   "source": [
    "list3 = ['Python',11, 1.5, ['a','e',[1,2,3,4]]] # List of lists\n",
    "    #                                0 1 2 3\n",
    "    #                         0   1     2     \n",
    "    #        0      1    2            3 \n",
    "print(\"element:\",list3[3][2][2])\n",
    "print(\"Length:\",len(list3))\n",
    "print(\"Length of element at index 3:\",len(list3[3]))"
   ]
  },
  {
   "cell_type": "code",
   "execution_count": null,
   "id": "144f8ac0",
   "metadata": {},
   "outputs": [],
   "source": [
    "list5= [[2,4,5],\n",
    "        [2,6,8]]\n",
    " #\n",
    "print(list5)\n",
    "print(list5[1])"
   ]
  },
  {
   "cell_type": "code",
   "execution_count": null,
   "id": "1302125c",
   "metadata": {},
   "outputs": [],
   "source": [
    "# When you know the number of elements, but not the values\n",
    "list4 = [None]*5\n",
    "list4"
   ]
  },
  {
   "cell_type": "code",
   "execution_count": null,
   "id": "d96ba9c1",
   "metadata": {},
   "outputs": [],
   "source": [
    "list4[1]=2\n",
    "list4"
   ]
  },
  {
   "cell_type": "code",
   "execution_count": null,
   "id": "896014e0",
   "metadata": {},
   "outputs": [],
   "source": [
    "# Random write\n",
    "\n",
    "list4[0] = 'no plastic is cool' #mutable\n",
    "list4"
   ]
  },
  {
   "cell_type": "code",
   "execution_count": null,
   "id": "8308a01f",
   "metadata": {},
   "outputs": [],
   "source": [
    "print(list2)\n",
    "len(list2) # Number of elemenst in list"
   ]
  },
  {
   "cell_type": "code",
   "execution_count": null,
   "id": "377cc1f8",
   "metadata": {},
   "outputs": [],
   "source": [
    "# Adding two lists, concatenation\n",
    "\n",
    "new_list = list2 + list4\n",
    "\n",
    "new_list"
   ]
  },
  {
   "cell_type": "code",
   "execution_count": null,
   "id": "e7caca7d",
   "metadata": {},
   "outputs": [],
   "source": [
    "# Iterating through a list using index\n",
    "\n",
    "list_of_airlines=[\"AI\",\"EM\",\"BA\"]\n",
    "#                   0    1    2\n",
    "print(\"Length:\", len(list_of_airlines))\n",
    "print(\"Iterating the list using range()\")\n",
    "for index in range(0,len(list_of_airlines)):  # (0,3) -> 0, 1, 2\n",
    "    #              0,1,2\n",
    "    print(list_of_airlines[index])"
   ]
  },
  {
   "cell_type": "code",
   "execution_count": null,
   "id": "3f42bfcb",
   "metadata": {},
   "outputs": [],
   "source": [
    "l = [2,3,5]\n",
    "for i in l:\n",
    "    print(i)"
   ]
  },
  {
   "cell_type": "code",
   "execution_count": null,
   "id": "8c9b1748",
   "metadata": {},
   "outputs": [],
   "source": [
    "# Iterating through the values of a list\n",
    "print(list_of_airlines)\n",
    "print(\"Iterating the list using keyword in\")\n",
    "for airline in list_of_airlines:\n",
    "    print(airline)"
   ]
  },
  {
   "cell_type": "code",
   "execution_count": null,
   "id": "1791e6c5",
   "metadata": {},
   "outputs": [],
   "source": [
    "list_of_airlines=[\"AI\",\"SJ\",\"JA\",\"EM\",\"AA\", \"AM\"]#start - inclusive(default value is 0), end - Exclusive\n",
    "               #   0    1    2   3    4    5  \n",
    "      #           -6   -5   -4  -3   -2   -1\n",
    "print(list_of_airlines[2:4])         \n",
    "print(list_of_airlines[:4]) "
   ]
  },
  {
   "cell_type": "code",
   "execution_count": null,
   "id": "fb5bd9e7",
   "metadata": {},
   "outputs": [],
   "source": [
    "print(list_of_airlines[4:1])"
   ]
  },
  {
   "cell_type": "code",
   "execution_count": null,
   "id": "731a92e7",
   "metadata": {},
   "outputs": [],
   "source": [
    "print(list_of_airlines[3:])"
   ]
  },
  {
   "cell_type": "code",
   "execution_count": null,
   "id": "326f6039",
   "metadata": {},
   "outputs": [],
   "source": [
    "print(list_of_airlines[-4:-1])#(2:5)"
   ]
  },
  {
   "cell_type": "code",
   "execution_count": 15,
   "id": "2f4f0b35",
   "metadata": {},
   "outputs": [],
   "source": [
    "list1 = [2,5,6]"
   ]
  },
  {
   "cell_type": "code",
   "execution_count": 16,
   "id": "12a4933e",
   "metadata": {},
   "outputs": [],
   "source": [
    "list1.append(2)"
   ]
  },
  {
   "cell_type": "code",
   "execution_count": 17,
   "id": "da6bedc4",
   "metadata": {},
   "outputs": [
    {
     "data": {
      "text/plain": [
       "[2, 5, 6, 2]"
      ]
     },
     "execution_count": 17,
     "metadata": {},
     "output_type": "execute_result"
    }
   ],
   "source": [
    "list1"
   ]
  },
  {
   "cell_type": "code",
   "execution_count": null,
   "id": "851b60ba",
   "metadata": {},
   "outputs": [],
   "source": [
    "list_of_airlines.append(20)\n",
    "print(list_of_airlines)"
   ]
  },
  {
   "cell_type": "markdown",
   "id": "4242fbb2",
   "metadata": {},
   "source": [
    "to get function related to collection:<br>\n",
    "    list_name.tab"
   ]
  },
  {
   "cell_type": "markdown",
   "id": "ad048583",
   "metadata": {},
   "source": [
    "## Tuple"
   ]
  },
  {
   "cell_type": "code",
   "execution_count": 3,
   "id": "0cbb9756",
   "metadata": {},
   "outputs": [
    {
     "data": {
      "text/plain": [
       "tuple"
      ]
     },
     "execution_count": 3,
     "metadata": {},
     "output_type": "execute_result"
    }
   ],
   "source": [
    "s = \"D\"\n",
    "type(s)\n",
    "\n",
    "s1 = \"D\",\n",
    "type(s1)"
   ]
  },
  {
   "cell_type": "code",
   "execution_count": 4,
   "id": "65bc3d3a",
   "metadata": {},
   "outputs": [],
   "source": [
    "sample_tuple=(\"A\",\"B\",\"C\")\n",
    "#             0    1   2\n",
    "sample_tuple1=(\"D\",)"
   ]
  },
  {
   "cell_type": "code",
   "execution_count": 6,
   "id": "d37bd8bd",
   "metadata": {},
   "outputs": [
    {
     "name": "stdout",
     "output_type": "stream",
     "text": [
      "<class 'tuple'>\n",
      "<class 'tuple'>\n",
      "B\n"
     ]
    }
   ],
   "source": [
    "# Random access\n",
    "print(type(sample_tuple))\n",
    "print(type(sample_tuple1))\n",
    "print(sample_tuple[1])"
   ]
  },
  {
   "cell_type": "code",
   "execution_count": 7,
   "id": "927a1ba6",
   "metadata": {},
   "outputs": [
    {
     "name": "stdout",
     "output_type": "stream",
     "text": [
      "('A', 'B', 'C', 'D')\n"
     ]
    }
   ],
   "source": [
    "sample_tuple=sample_tuple+sample_tuple1 # Concatenating tuples\n",
    "print(sample_tuple)"
   ]
  },
  {
   "cell_type": "code",
   "execution_count": 8,
   "id": "7b35a2ac",
   "metadata": {},
   "outputs": [
    {
     "ename": "TypeError",
     "evalue": "'tuple' object does not support item assignment",
     "output_type": "error",
     "traceback": [
      "\u001b[1;31m---------------------------------------------------------------------------\u001b[0m",
      "\u001b[1;31mTypeError\u001b[0m                                 Traceback (most recent call last)",
      "\u001b[1;32m~\\AppData\\Local\\Temp/ipykernel_26740/1024649112.py\u001b[0m in \u001b[0;36m<module>\u001b[1;34m\u001b[0m\n\u001b[0;32m      1\u001b[0m \u001b[1;31m# random write\u001b[0m\u001b[1;33m\u001b[0m\u001b[1;33m\u001b[0m\u001b[0m\n\u001b[1;32m----> 2\u001b[1;33m \u001b[0msample_tuple\u001b[0m\u001b[1;33m[\u001b[0m\u001b[1;36m1\u001b[0m\u001b[1;33m]\u001b[0m\u001b[1;33m=\u001b[0m\u001b[1;34m\"S\"\u001b[0m\u001b[1;33m\u001b[0m\u001b[1;33m\u001b[0m\u001b[0m\n\u001b[0m",
      "\u001b[1;31mTypeError\u001b[0m: 'tuple' object does not support item assignment"
     ]
    }
   ],
   "source": [
    "# random write\n",
    "sample_tuple[1]=\"S\""
   ]
  },
  {
   "cell_type": "code",
   "execution_count": 9,
   "id": "20bc9407",
   "metadata": {},
   "outputs": [
    {
     "name": "stdout",
     "output_type": "stream",
     "text": [
      "('A', 'B', 'C', 'D', 'E', 'F', 'G')\n"
     ]
    }
   ],
   "source": [
    "# Adding elements to tuple\n",
    "\n",
    "sample_tuple=sample_tuple+(\"E\",)\n",
    "sample_tuple=sample_tuple+(\"F\",\"G\")\n",
    "print(sample_tuple)"
   ]
  },
  {
   "cell_type": "code",
   "execution_count": 10,
   "id": "29191747",
   "metadata": {},
   "outputs": [
    {
     "name": "stdout",
     "output_type": "stream",
     "text": [
      "((2, 1), 4, [1, 5, 3], 'String', True)\n"
     ]
    }
   ],
   "source": [
    "tuple1 = ((2,1),4, [1,5,3], \"String\", True)\n",
    "print(tuple1)"
   ]
  },
  {
   "cell_type": "code",
   "execution_count": 23,
   "id": "58b0e1c0",
   "metadata": {},
   "outputs": [
    {
     "data": {
      "text/plain": [
       "3"
      ]
     },
     "execution_count": 23,
     "metadata": {},
     "output_type": "execute_result"
    }
   ],
   "source": [
    "tuple1[2][2]"
   ]
  },
  {
   "cell_type": "code",
   "execution_count": 18,
   "id": "00c71c2b",
   "metadata": {},
   "outputs": [
    {
     "data": {
      "text/plain": [
       "([1, 5, 3], 'String')"
      ]
     },
     "execution_count": 18,
     "metadata": {},
     "output_type": "execute_result"
    }
   ],
   "source": [
    "tuple1[2:4]"
   ]
  },
  {
   "cell_type": "code",
   "execution_count": 14,
   "id": "dcb7900d",
   "metadata": {},
   "outputs": [
    {
     "data": {
      "text/plain": [
       "0"
      ]
     },
     "execution_count": 14,
     "metadata": {},
     "output_type": "execute_result"
    }
   ],
   "source": [
    "tuple1.index(4)\n",
    "tuple1.count(5)"
   ]
  },
  {
   "cell_type": "code",
   "execution_count": 19,
   "id": "0d45f77b",
   "metadata": {},
   "outputs": [
    {
     "name": "stdout",
     "output_type": "stream",
     "text": [
      "2\n",
      "7\n",
      "9\n",
      "10\n"
     ]
    }
   ],
   "source": [
    "tuple5 = (2,7,9,10)\n",
    "\n",
    "for i in tuple5:\n",
    "    print(i)"
   ]
  },
  {
   "cell_type": "markdown",
   "id": "337f6528",
   "metadata": {},
   "source": [
    "## Set\n",
    "unordered colletion of unique values"
   ]
  },
  {
   "cell_type": "code",
   "execution_count": 27,
   "id": "ba67b7fa",
   "metadata": {},
   "outputs": [
    {
     "name": "stdout",
     "output_type": "stream",
     "text": [
      "[3, 6, 8, 2, 4, 3, 5, 3, 4, 5, True, 'str', 'str']\n",
      "<class 'list'>\n",
      "13\n"
     ]
    }
   ],
   "source": [
    "l = [3,6,8,2,4,3,5,3,4,5, True, \"str\", \"str\"]\n",
    "print(l)\n",
    "print(type(l))\n",
    "print(len(l))"
   ]
  },
  {
   "cell_type": "code",
   "execution_count": 28,
   "id": "d5cffec5",
   "metadata": {},
   "outputs": [
    {
     "name": "stdout",
     "output_type": "stream",
     "text": [
      "{True, 2, 3, 4, 5, 6, 8, 'str'}\n",
      "<class 'set'>\n",
      "8\n"
     ]
    }
   ],
   "source": [
    "set1 = set(l)\n",
    "print(set1)\n",
    "print(type(set1))\n",
    "print(len(set1))"
   ]
  },
  {
   "cell_type": "code",
   "execution_count": 31,
   "id": "f0563aca",
   "metadata": {},
   "outputs": [
    {
     "name": "stdout",
     "output_type": "stream",
     "text": [
      "(2, 6, 8, 8, 6, 2, 't')\n",
      "<class 'tuple'>\n",
      "7\n"
     ]
    }
   ],
   "source": [
    "tuple2 = (2,6,8,8,6,2,\"t\")\n",
    "print(tuple2)\n",
    "print(type(tuple2))\n",
    "print(len(tuple2))"
   ]
  },
  {
   "cell_type": "code",
   "execution_count": 33,
   "id": "6b35dfe5",
   "metadata": {},
   "outputs": [
    {
     "name": "stdout",
     "output_type": "stream",
     "text": [
      "{8, 2, 't', 6}\n",
      "<class 'set'>\n",
      "4\n"
     ]
    }
   ],
   "source": [
    "set2 = set(tuple2)\n",
    "print(set2)\n",
    "print(type(set2))\n",
    "print(len(set2))"
   ]
  },
  {
   "cell_type": "code",
   "execution_count": 30,
   "id": "e5c1f27c",
   "metadata": {},
   "outputs": [
    {
     "name": "stdout",
     "output_type": "stream",
     "text": [
      "{1, 2, 3, 5, 7}\n",
      "<class 'set'>\n"
     ]
    }
   ],
   "source": [
    "s={1,2,2,3,5,2,7,3}\n",
    "print(s)\n",
    "print(type(s))"
   ]
  },
  {
   "cell_type": "code",
   "execution_count": 34,
   "id": "241bb59e",
   "metadata": {},
   "outputs": [
    {
     "name": "stdout",
     "output_type": "stream",
     "text": [
      "{1, 3, 4, 5, 20, 8, 9}\n"
     ]
    }
   ],
   "source": [
    "s1={1,3,4,5,5,8,9,20,5,8,9}\n",
    "print(s1)"
   ]
  },
  {
   "cell_type": "code",
   "execution_count": 35,
   "id": "8d6c1cf2",
   "metadata": {},
   "outputs": [
    {
     "data": {
      "text/plain": [
       "{1, 3, 5}"
      ]
     },
     "execution_count": 35,
     "metadata": {},
     "output_type": "execute_result"
    }
   ],
   "source": [
    "s1 & s   #common elements intersection"
   ]
  },
  {
   "cell_type": "code",
   "execution_count": 36,
   "id": "a4951825",
   "metadata": {},
   "outputs": [
    {
     "data": {
      "text/plain": [
       "{4, 8, 9, 20}"
      ]
     },
     "execution_count": 36,
     "metadata": {},
     "output_type": "execute_result"
    }
   ],
   "source": [
    "s1 - s # {1, 3, 4, 5, 20, 8, 9} - {1, 2, 3, 5, 7}\n",
    "# unique elements of s1 which are not present in set s"
   ]
  },
  {
   "cell_type": "code",
   "execution_count": 37,
   "id": "3cc9b400",
   "metadata": {},
   "outputs": [
    {
     "data": {
      "text/plain": [
       "{1, 2, 3, 4, 5, 7, 8, 9, 20}"
      ]
     },
     "execution_count": 37,
     "metadata": {},
     "output_type": "execute_result"
    }
   ],
   "source": [
    "s1|s  # union"
   ]
  },
  {
   "cell_type": "markdown",
   "id": "1d0c900d",
   "metadata": {},
   "source": [
    "## String"
   ]
  },
  {
   "cell_type": "code",
   "execution_count": 38,
   "id": "35461378",
   "metadata": {},
   "outputs": [
    {
     "data": {
      "text/plain": [
       "str"
      ]
     },
     "execution_count": 38,
     "metadata": {},
     "output_type": "execute_result"
    }
   ],
   "source": [
    "str1 = \"String\"\n",
    "type(str1)"
   ]
  },
  {
   "cell_type": "code",
   "execution_count": 40,
   "id": "41ea6a98",
   "metadata": {},
   "outputs": [
    {
     "data": {
      "text/plain": [
       "'S'"
      ]
     },
     "execution_count": 40,
     "metadata": {},
     "output_type": "execute_result"
    }
   ],
   "source": [
    "str1[0]"
   ]
  },
  {
   "cell_type": "code",
   "execution_count": null,
   "id": "fbc5f705",
   "metadata": {},
   "outputs": [],
   "source": [
    "str1.startswith()"
   ]
  },
  {
   "cell_type": "code",
   "execution_count": 41,
   "id": "0c0d311c",
   "metadata": {},
   "outputs": [
    {
     "name": "stdout",
     "output_type": "stream",
     "text": [
      "Good Morning, this is the final call to AI passengers for the flight AI 466 which is planned to take off at 8.40A.M.\n"
     ]
    }
   ],
   "source": [
    "boarding_call=\"Good Evening, this is the final call to AI passengers for the flight AI 466 which is planned to take off at 8.40A.M.\"\n",
    "\n",
    "if(boarding_call.startswith(\"Good Evening\")):\n",
    "    print(boarding_call.replace(\"Good Evening\",\"Good Morning\"))\n",
    "    #                            old               new"
   ]
  },
  {
   "cell_type": "code",
   "execution_count": 45,
   "id": "8c5004c7",
   "metadata": {},
   "outputs": [
    {
     "data": {
      "text/plain": [
       "'I'"
      ]
     },
     "execution_count": 45,
     "metadata": {},
     "output_type": "execute_result"
    }
   ],
   "source": [
    "boarding_call[40]\n",
    "boarding_call[41]"
   ]
  },
  {
   "cell_type": "code",
   "execution_count": 46,
   "id": "9cc853a3",
   "metadata": {
    "scrolled": true
   },
   "outputs": [
    {
     "data": {
      "text/plain": [
       "-1"
      ]
     },
     "execution_count": 46,
     "metadata": {},
     "output_type": "execute_result"
    }
   ],
   "source": [
    "boarding_call.find(\"AE\")"
   ]
  },
  {
   "cell_type": "code",
   "execution_count": 42,
   "id": "954e07c9",
   "metadata": {},
   "outputs": [
    {
     "name": "stdout",
     "output_type": "stream",
     "text": [
      "Welcome to Air India.\n"
     ]
    }
   ],
   "source": [
    "if(boarding_call.find(\"AI\"))>=0:\n",
    "    # find returns the lowest index of first value in seq if only the seq occurs in the string\n",
    "    print(\"Welcome to Air India.\")"
   ]
  },
  {
   "cell_type": "code",
   "execution_count": 47,
   "id": "319802e2",
   "metadata": {},
   "outputs": [
    {
     "name": "stdout",
     "output_type": "stream",
     "text": [
      "Passengers are requested to have their breakfast.\n"
     ]
    }
   ],
   "source": [
    "if(boarding_call.endswith(\"A.M.\")):\n",
    "    print(\"Passengers are requested to have their breakfast.\")"
   ]
  },
  {
   "cell_type": "code",
   "execution_count": 48,
   "id": "56f1cf94",
   "metadata": {},
   "outputs": [
    {
     "name": "stdout",
     "output_type": "stream",
     "text": [
      "['Good', 'Evening,', 'this', 'is', 'the', 'final', 'call', 'to', 'AI', 'passengers', 'for', 'the', 'flight', 'AI', '466', 'which', 'is', 'planned', 'to', 'take', 'off', 'at', '8.40A.M.']\n",
      "Flight Number is specified to the passengers. 466\n",
      "Total number of times flight service name is specified in the boarding call: 2\n"
     ]
    }
   ],
   "source": [
    "a=boarding_call.split(\" \") #return a list\n",
    "print(a)\n",
    "for i in a:\n",
    "    if(i.isdigit()):\n",
    "        print(\"Flight Number is specified to the passengers.\",i)\n",
    "\n",
    "print(\"Total number of times flight service name is specified in the boarding call:\",boarding_call.count(\"AI\"))\n"
   ]
  },
  {
   "cell_type": "code",
   "execution_count": 52,
   "id": "25598c74",
   "metadata": {},
   "outputs": [
    {
     "name": "stdout",
     "output_type": "stream",
     "text": [
      "THANK YOU ALL..HAVE A NICE JOURNEY!\n",
      "thank you all..have a nice journey!\n"
     ]
    }
   ],
   "source": [
    "message=\"Thank you all..Have a nice journey!\"\n",
    "\n",
    "print(message.upper())\n",
    "\n",
    "print(message.lower())"
   ]
  },
  {
   "cell_type": "markdown",
   "id": "1c64dae9",
   "metadata": {},
   "source": [
    "## Dictionary\n",
    "\n",
    "key-value pair"
   ]
  },
  {
   "cell_type": "code",
   "execution_count": 53,
   "id": "843d4cea",
   "metadata": {},
   "outputs": [
    {
     "name": "stdout",
     "output_type": "stream",
     "text": [
      "{'model_name': 'Polo', 'Price': 15000, 'Color': 'Red'}\n",
      "{'model_name': 'Mustang', 'Price': 25000, 'Color': 'White', 'Year': 2008}\n",
      "<class 'dict'>\n"
     ]
    }
   ],
   "source": [
    "car1 = {'model_name':'Polo','Price':15000, 'Color': 'Red'} #-- key:value \n",
    "car2 = {'model_name':'Mustang','Price':25000, 'Color': 'White', 'Year': 2008}\n",
    "print(car1)\n",
    "print(car2)\n",
    "print(type(car1))"
   ]
  },
  {
   "cell_type": "code",
   "execution_count": 54,
   "id": "b80febfa",
   "metadata": {},
   "outputs": [
    {
     "data": {
      "text/plain": [
       "dict_keys(['model_name', 'Price', 'Color'])"
      ]
     },
     "execution_count": 54,
     "metadata": {},
     "output_type": "execute_result"
    }
   ],
   "source": [
    "car1.keys()"
   ]
  },
  {
   "cell_type": "code",
   "execution_count": 55,
   "id": "2b5163dc",
   "metadata": {},
   "outputs": [
    {
     "data": {
      "text/plain": [
       "dict_items([('model_name', 'Polo'), ('Price', 15000), ('Color', 'Red')])"
      ]
     },
     "execution_count": 55,
     "metadata": {},
     "output_type": "execute_result"
    }
   ],
   "source": [
    "car1.items()"
   ]
  },
  {
   "cell_type": "code",
   "execution_count": 56,
   "id": "bacd1771",
   "metadata": {},
   "outputs": [
    {
     "data": {
      "text/plain": [
       "dict_values(['Polo', 15000, 'Red'])"
      ]
     },
     "execution_count": 56,
     "metadata": {},
     "output_type": "execute_result"
    }
   ],
   "source": [
    "car1.values()"
   ]
  },
  {
   "cell_type": "code",
   "execution_count": 57,
   "id": "80d49547",
   "metadata": {},
   "outputs": [
    {
     "data": {
      "text/plain": [
       "'Polo'"
      ]
     },
     "execution_count": 57,
     "metadata": {},
     "output_type": "execute_result"
    }
   ],
   "source": [
    "car1['model_name']"
   ]
  },
  {
   "cell_type": "markdown",
   "id": "1a60630b",
   "metadata": {},
   "source": [
    "key: unique and immutable"
   ]
  },
  {
   "cell_type": "code",
   "execution_count": 58,
   "id": "c0948548",
   "metadata": {},
   "outputs": [],
   "source": [
    "car4 = {'Price':'Polo','Price':15000, 'Color': 'Red'}"
   ]
  },
  {
   "cell_type": "code",
   "execution_count": 59,
   "id": "53e150a0",
   "metadata": {},
   "outputs": [
    {
     "data": {
      "text/plain": [
       "15000"
      ]
     },
     "execution_count": 59,
     "metadata": {},
     "output_type": "execute_result"
    }
   ],
   "source": [
    "car4['Price']"
   ]
  },
  {
   "cell_type": "code",
   "execution_count": 60,
   "id": "38ceb9a8",
   "metadata": {},
   "outputs": [
    {
     "data": {
      "text/plain": [
       "'Polo'"
      ]
     },
     "execution_count": 60,
     "metadata": {},
     "output_type": "execute_result"
    }
   ],
   "source": [
    "car4 = {2:'Polo','Price':15000, 'Color': 'Red'}\n",
    "car4[2]"
   ]
  },
  {
   "cell_type": "code",
   "execution_count": 61,
   "id": "0c78ff5e",
   "metadata": {},
   "outputs": [
    {
     "data": {
      "text/plain": [
       "'Polo'"
      ]
     },
     "execution_count": 61,
     "metadata": {},
     "output_type": "execute_result"
    }
   ],
   "source": [
    "car4 = {2.3:'Polo','Price':15000, 'Color': 'Red'}\n",
    "car4[2.3]"
   ]
  },
  {
   "cell_type": "code",
   "execution_count": 62,
   "id": "d4f5c60a",
   "metadata": {},
   "outputs": [
    {
     "data": {
      "text/plain": [
       "{'A': [1, 3, 4], 'Price': 15000, 'Color': 'Red'}"
      ]
     },
     "execution_count": 62,
     "metadata": {},
     "output_type": "execute_result"
    }
   ],
   "source": [
    "car4 = {\"A\":[1,3,4],'Price':15000, 'Color': 'Red'}\n",
    "car4"
   ]
  },
  {
   "cell_type": "code",
   "execution_count": 64,
   "id": "b183aa3b",
   "metadata": {},
   "outputs": [],
   "source": [
    "car4 = {(3,):\"ABC\"}"
   ]
  },
  {
   "cell_type": "code",
   "execution_count": 65,
   "id": "dc43698e",
   "metadata": {},
   "outputs": [
    {
     "name": "stdout",
     "output_type": "stream",
     "text": [
      "{'model_name': 'Polo', 'Price': 15000, 'Color': 'Red'}\n"
     ]
    }
   ],
   "source": [
    "print(car1)"
   ]
  },
  {
   "cell_type": "code",
   "execution_count": 66,
   "id": "e783281b",
   "metadata": {},
   "outputs": [
    {
     "name": "stdout",
     "output_type": "stream",
     "text": [
      "model_name Polo\n",
      "Price 15000\n",
      "Color Red\n"
     ]
    }
   ],
   "source": [
    "for key,value in car1.items():\n",
    "    print(key,value)"
   ]
  },
  {
   "cell_type": "code",
   "execution_count": null,
   "id": "d0c66444",
   "metadata": {},
   "outputs": [],
   "source": []
  }
 ],
 "metadata": {
  "kernelspec": {
   "display_name": "Python 3 (ipykernel)",
   "language": "python",
   "name": "python3"
  },
  "language_info": {
   "codemirror_mode": {
    "name": "ipython",
    "version": 3
   },
   "file_extension": ".py",
   "mimetype": "text/x-python",
   "name": "python",
   "nbconvert_exporter": "python",
   "pygments_lexer": "ipython3",
   "version": "3.11.2"
  }
 },
 "nbformat": 4,
 "nbformat_minor": 5
}
