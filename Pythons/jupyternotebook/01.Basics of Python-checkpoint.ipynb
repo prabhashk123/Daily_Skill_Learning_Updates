{
 "cells": [
  {
   "cell_type": "markdown",
   "id": "7a3a8a4d",
   "metadata": {},
   "source": [
    "# Python Demo"
   ]
  },
  {
   "cell_type": "code",
   "execution_count": 1,
   "id": "0f9d50ba",
   "metadata": {},
   "outputs": [
    {
     "data": {
      "text/plain": [
       "18"
      ]
     },
     "execution_count": 1,
     "metadata": {},
     "output_type": "execute_result"
    }
   ],
   "source": [
    "8+10\n",
    "# To execute\n",
    "# 1. Run button on top\n",
    "# 2. Shift + enter\n",
    "# 3. Ctrl + enter"
   ]
  },
  {
   "cell_type": "code",
   "execution_count": 2,
   "id": "974bd2ee",
   "metadata": {},
   "outputs": [],
   "source": [
    "9*1\n",
    "a = 10\n",
    "# shift + enter -> execute the current cell and select next"
   ]
  },
  {
   "cell_type": "code",
   "execution_count": 3,
   "id": "4b98002a",
   "metadata": {},
   "outputs": [
    {
     "data": {
      "text/plain": [
       "10"
      ]
     },
     "execution_count": 3,
     "metadata": {},
     "output_type": "execute_result"
    }
   ],
   "source": [
    "5*2\n",
    "# ctrl + enter -> execute the current "
   ]
  },
  {
   "cell_type": "code",
   "execution_count": 4,
   "id": "0f20dbf3",
   "metadata": {},
   "outputs": [
    {
     "name": "stdout",
     "output_type": "stream",
     "text": [
      "10\n"
     ]
    }
   ],
   "source": [
    "5+10\n",
    "print(a)"
   ]
  },
  {
   "cell_type": "markdown",
   "id": "cceb30f7",
   "metadata": {},
   "source": [
    "### Creating a cell:\n",
    "1. a -> cell above the selected one\n",
    "2. b -> cell below the selected one\n",
    "3. x -> delete the current cell\n",
    "4. v -> to get the deleted cell back( it will create the cell below)\n",
    "5. m -> convert the cell to markdown"
   ]
  },
  {
   "cell_type": "markdown",
   "id": "ac08296b",
   "metadata": {},
   "source": [
    "# Python Codes"
   ]
  },
  {
   "cell_type": "markdown",
   "id": "5ee0f370",
   "metadata": {},
   "source": [
    "### Identifiers and Keywords"
   ]
  },
  {
   "cell_type": "code",
   "execution_count": 5,
   "id": "08ba581a",
   "metadata": {},
   "outputs": [],
   "source": [
    "num1=10  #Variable\n",
    "# num1 -> identifier"
   ]
  },
  {
   "cell_type": "code",
   "execution_count": 6,
   "id": "e0ed58d1",
   "metadata": {},
   "outputs": [],
   "source": [
    "num2=\"John\" # \"\", '' -> string"
   ]
  },
  {
   "cell_type": "code",
   "execution_count": 7,
   "id": "df3c000e",
   "metadata": {},
   "outputs": [
    {
     "name": "stdout",
     "output_type": "stream",
     "text": [
      "10,John\n"
     ]
    }
   ],
   "source": [
    "print(num1,num2, sep =\",\")  # seperator = \" \" end = \"\\n\"\n",
    "# to get doc string: shift+tab"
   ]
  },
  {
   "cell_type": "code",
   "execution_count": 8,
   "id": "7c3156ae",
   "metadata": {},
   "outputs": [
    {
     "name": "stdout",
     "output_type": "stream",
     "text": [
      "John\n"
     ]
    }
   ],
   "source": [
    "print(num2)"
   ]
  },
  {
   "cell_type": "code",
   "execution_count": 9,
   "id": "d033d1d3",
   "metadata": {},
   "outputs": [],
   "source": [
    "num3=3.34  #float"
   ]
  },
  {
   "cell_type": "markdown",
   "id": "6ea523b3",
   "metadata": {},
   "source": [
    "while, for, if, for, key,else, elif, break, continue, pass"
   ]
  },
  {
   "cell_type": "markdown",
   "id": "14a9dfc1",
   "metadata": {},
   "source": [
    "- start with a character( uppercase or lowercase)\n",
    "- start with a underscore(_)\n",
    "- followed by any number of letters, digits or underscore"
   ]
  },
  {
   "cell_type": "code",
   "execution_count": 10,
   "id": "16798c83",
   "metadata": {},
   "outputs": [
    {
     "name": "stdout",
     "output_type": "stream",
     "text": [
      "20\n"
     ]
    }
   ],
   "source": [
    "#while=10\n",
    "# for if else elif in def\n",
    "#1num=10\n",
    "_num=20\n",
    "print(_num)"
   ]
  },
  {
   "cell_type": "markdown",
   "id": "5b167711",
   "metadata": {},
   "source": [
    "### Variables and Datatypes "
   ]
  },
  {
   "cell_type": "code",
   "execution_count": 11,
   "id": "3396756e",
   "metadata": {},
   "outputs": [
    {
     "name": "stdout",
     "output_type": "stream",
     "text": [
      "Value: 20\n"
     ]
    },
    {
     "data": {
      "text/plain": [
       "int"
      ]
     },
     "execution_count": 11,
     "metadata": {},
     "output_type": "execute_result"
    }
   ],
   "source": [
    "#dynamically typed language\n",
    "# integer\n",
    "d1=20\n",
    "print(\"Value:\",d1)\n",
    "# to know the datatype type()\n",
    "type(d1)"
   ]
  },
  {
   "cell_type": "code",
   "execution_count": 12,
   "id": "0b2a596c",
   "metadata": {},
   "outputs": [
    {
     "name": "stdout",
     "output_type": "stream",
     "text": [
      "33.9885675677656\n"
     ]
    },
    {
     "data": {
      "text/plain": [
       "float"
      ]
     },
     "execution_count": 12,
     "metadata": {},
     "output_type": "execute_result"
    }
   ],
   "source": [
    "# float/double\n",
    "d2=33.9885675677656\n",
    "print(d2)\n",
    "type(d2)"
   ]
  },
  {
   "cell_type": "code",
   "execution_count": 13,
   "id": "5f3eb38a",
   "metadata": {},
   "outputs": [
    {
     "name": "stdout",
     "output_type": "stream",
     "text": [
      "black_23 w\n",
      "<class 'str'>\n",
      "<class 'str'>\n"
     ]
    }
   ],
   "source": [
    "# string: Alphanumeric \n",
    "d3=\"black_23\"\n",
    "d4='w'\n",
    "print(d3,d4)\n",
    "print(type(d3))\n",
    "print(type(d4))"
   ]
  },
  {
   "cell_type": "code",
   "execution_count": 14,
   "id": "cc6a07d4",
   "metadata": {},
   "outputs": [
    {
     "name": "stdout",
     "output_type": "stream",
     "text": [
      "black_23 w\n",
      "<class 'str'> <class 'str'>\n"
     ]
    }
   ],
   "source": [
    "# string\n",
    "d3='black_23'\n",
    "d4=\"w\"\n",
    "print(d3,d4)\n",
    "print(type(d3), type(d4))"
   ]
  },
  {
   "cell_type": "code",
   "execution_count": 15,
   "id": "b5e4feb1",
   "metadata": {},
   "outputs": [
    {
     "name": "stdout",
     "output_type": "stream",
     "text": [
      "True False\n"
     ]
    },
    {
     "data": {
      "text/plain": [
       "bool"
      ]
     },
     "execution_count": 15,
     "metadata": {},
     "output_type": "execute_result"
    }
   ],
   "source": [
    "# logical/boolean\n",
    "d5=True\n",
    "#TRUE, true\n",
    "d6=False\n",
    "print(d5,d6)\n",
    "type(d5)"
   ]
  },
  {
   "cell_type": "markdown",
   "id": "98a2f25c",
   "metadata": {},
   "source": [
    "### Input and Output Statements"
   ]
  },
  {
   "cell_type": "code",
   "execution_count": 16,
   "id": "87154c33",
   "metadata": {
    "scrolled": true
   },
   "outputs": [
    {
     "name": "stdout",
     "output_type": "stream",
     "text": [
      "enter ur height in cms:6\n",
      "6\n"
     ]
    },
    {
     "data": {
      "text/plain": [
       "str"
      ]
     },
     "execution_count": 16,
     "metadata": {},
     "output_type": "execute_result"
    }
   ],
   "source": [
    "height=input(\"enter ur height in cms:\")\n",
    "print(height)\n",
    "type(height)"
   ]
  },
  {
   "cell_type": "code",
   "execution_count": 17,
   "id": "de94ba02",
   "metadata": {},
   "outputs": [
    {
     "name": "stdout",
     "output_type": "stream",
     "text": [
      "Enter the weight of bag1:8\n",
      "Enter the weight of bag2:9\n",
      "89\n"
     ]
    },
    {
     "data": {
      "text/plain": [
       "str"
      ]
     },
     "execution_count": 17,
     "metadata": {},
     "output_type": "execute_result"
    }
   ],
   "source": [
    "bag1=input(\"Enter the weight of bag1:\") # 20\n",
    "bag2=input(\"Enter the weight of bag2:\") # 10\n",
    "total=bag1+bag2  # 2010\n",
    "# num + num = add\n",
    "# str + str = concatenation\n",
    "print(total)\n",
    "type(total)"
   ]
  },
  {
   "cell_type": "code",
   "execution_count": 18,
   "id": "e1a78505",
   "metadata": {},
   "outputs": [
    {
     "name": "stdout",
     "output_type": "stream",
     "text": [
      "<class 'str'>\n",
      "8\n"
     ]
    },
    {
     "data": {
      "text/plain": [
       "int"
      ]
     },
     "execution_count": 18,
     "metadata": {},
     "output_type": "execute_result"
    }
   ],
   "source": [
    "#string to int -> function int()\n",
    "print(type(bag1))\n",
    "x = int(bag1)\n",
    "print(x)\n",
    "type(x)"
   ]
  },
  {
   "cell_type": "code",
   "execution_count": 19,
   "id": "b7c41f93",
   "metadata": {},
   "outputs": [
    {
     "name": "stdout",
     "output_type": "stream",
     "text": [
      "Enter the weight of bag1:34\n",
      "Enter the weight of bag2:7\n",
      "41\n",
      "<class 'int'> <class 'int'>\n"
     ]
    }
   ],
   "source": [
    "bag1=int(input(\"Enter the weight of bag1:\"))\n",
    "bag2=int(input(\"Enter the weight of bag2:\"))\n",
    "total=bag1+bag2\n",
    "print(total)\n",
    "print(type(bag1), type(bag2))\n"
   ]
  },
  {
   "cell_type": "code",
   "execution_count": 20,
   "id": "2cb86ce4",
   "metadata": {},
   "outputs": [
    {
     "name": "stdout",
     "output_type": "stream",
     "text": [
      "Enter the weight of bag1:3\n",
      "Enter the weight of bag2:7\n",
      "Total weight is 10\n",
      "<class 'str'> <class 'str'>\n"
     ]
    }
   ],
   "source": [
    "bag1=input(\"Enter the weight of bag1:\")\n",
    "bag2=input(\"Enter the weight of bag2:\")\n",
    "total=int(bag1)+ int(bag2)\n",
    "print(\"Total weight is\",total)\n",
    "print(type(bag1), type(bag2))"
   ]
  },
  {
   "cell_type": "code",
   "execution_count": 21,
   "id": "ca34b125",
   "metadata": {},
   "outputs": [
    {
     "name": "stdout",
     "output_type": "stream",
     "text": [
      "Bag1: 3,Bag2: 7\n"
     ]
    }
   ],
   "source": [
    "print(\"Bag1:\", bag1, end = \",\")\n",
    "print(\"Bag2:\", bag2)\n",
    "str2 = \"Bag\""
   ]
  },
  {
   "cell_type": "code",
   "execution_count": 22,
   "id": "350e4c0d",
   "metadata": {},
   "outputs": [
    {
     "name": "stdout",
     "output_type": "stream",
     "text": [
      "3 7 Bag,Bag\n"
     ]
    }
   ],
   "source": [
    "print(bag1,bag2,str2, end=\",\")\n",
    "print(str2)"
   ]
  },
  {
   "cell_type": "code",
   "execution_count": 23,
   "id": "ad0e7f46",
   "metadata": {},
   "outputs": [
    {
     "name": "stdout",
     "output_type": "stream",
     "text": [
      "3:7 Bag\n"
     ]
    }
   ],
   "source": [
    "print(bag1,bag2, sep = \":\", end= \" \")\n",
    "print(str2)"
   ]
  },
  {
   "cell_type": "markdown",
   "id": "4cbcf819",
   "metadata": {},
   "source": [
    "### Operators "
   ]
  },
  {
   "cell_type": "code",
   "execution_count": 24,
   "id": "7a684556",
   "metadata": {},
   "outputs": [
    {
     "name": "stdout",
     "output_type": "stream",
     "text": [
      "9\n"
     ]
    }
   ],
   "source": [
    "#Arithmetic (+,-,*,/,%,//)\n",
    "a = 1\n",
    "b = 5\n",
    "c = 3\n",
    "\n",
    "result = a+b+c\n",
    "\n",
    "print(result)"
   ]
  },
  {
   "cell_type": "code",
   "execution_count": 25,
   "id": "94b230a5",
   "metadata": {},
   "outputs": [
    {
     "name": "stdout",
     "output_type": "stream",
     "text": [
      "9\n"
     ]
    }
   ],
   "source": [
    "print(a+b+c)"
   ]
  },
  {
   "cell_type": "code",
   "execution_count": 26,
   "id": "48d8def2",
   "metadata": {},
   "outputs": [
    {
     "name": "stdout",
     "output_type": "stream",
     "text": [
      "61\n"
     ]
    }
   ],
   "source": [
    "print(11 + 15 + 35)"
   ]
  },
  {
   "cell_type": "code",
   "execution_count": 27,
   "id": "0c8279c5",
   "metadata": {},
   "outputs": [
    {
     "data": {
      "text/plain": [
       "15"
      ]
     },
     "execution_count": 27,
     "metadata": {},
     "output_type": "execute_result"
    }
   ],
   "source": [
    "3*5"
   ]
  },
  {
   "cell_type": "code",
   "execution_count": 28,
   "id": "cc31ba97",
   "metadata": {},
   "outputs": [
    {
     "data": {
      "text/plain": [
       "3.8"
      ]
     },
     "execution_count": 28,
     "metadata": {},
     "output_type": "execute_result"
    }
   ],
   "source": [
    "19/5 #--> decimal division"
   ]
  },
  {
   "cell_type": "code",
   "execution_count": 29,
   "id": "0a9cfc39",
   "metadata": {},
   "outputs": [
    {
     "data": {
      "text/plain": [
       "4.0"
      ]
     },
     "execution_count": 29,
     "metadata": {},
     "output_type": "execute_result"
    }
   ],
   "source": [
    "20/5"
   ]
  },
  {
   "cell_type": "code",
   "execution_count": 30,
   "id": "025191fd",
   "metadata": {},
   "outputs": [
    {
     "data": {
      "text/plain": [
       "3"
      ]
     },
     "execution_count": 30,
     "metadata": {},
     "output_type": "execute_result"
    }
   ],
   "source": [
    "19//5 #--> integer division --> quotient"
   ]
  },
  {
   "cell_type": "code",
   "execution_count": 31,
   "id": "92ce91fd",
   "metadata": {},
   "outputs": [
    {
     "data": {
      "text/plain": [
       "1"
      ]
     },
     "execution_count": 31,
     "metadata": {},
     "output_type": "execute_result"
    }
   ],
   "source": [
    "16%5 # Modulus operator --> remainder"
   ]
  },
  {
   "cell_type": "code",
   "execution_count": 32,
   "id": "08674a09",
   "metadata": {},
   "outputs": [
    {
     "data": {
      "text/plain": [
       "16"
      ]
     },
     "execution_count": 32,
     "metadata": {},
     "output_type": "execute_result"
    }
   ],
   "source": [
    "2**4 #2^5 = 2*2*2*2*2, 2 to the power 5"
   ]
  },
  {
   "cell_type": "code",
   "execution_count": 33,
   "id": "b1f75771",
   "metadata": {},
   "outputs": [
    {
     "data": {
      "text/plain": [
       "4.0"
      ]
     },
     "execution_count": 33,
     "metadata": {},
     "output_type": "execute_result"
    }
   ],
   "source": [
    "5 + 4 * 9 % (3 + 1) / 6 - 1"
   ]
  },
  {
   "cell_type": "code",
   "execution_count": 34,
   "id": "759c839e",
   "metadata": {},
   "outputs": [
    {
     "data": {
      "text/plain": [
       "0.0"
      ]
     },
     "execution_count": 34,
     "metadata": {},
     "output_type": "execute_result"
    }
   ],
   "source": [
    "0/6"
   ]
  },
  {
   "cell_type": "code",
   "execution_count": 35,
   "id": "068bf3e7",
   "metadata": {},
   "outputs": [
    {
     "data": {
      "text/plain": [
       "'\\n5 + 4*9%4/6 -1\\n5 + 36%4/6 - 1\\n5 + 0/6 - 1\\n5 + 0.0 - 1\\n5.0 - 1\\n4.0\\n'"
      ]
     },
     "execution_count": 35,
     "metadata": {},
     "output_type": "execute_result"
    }
   ],
   "source": [
    "5 + 4 * 9 % (3 + 1) / 6 - 1  #BODMAS left to right\n",
    "'''\n",
    "5 + 4*9%4/6 -1\n",
    "5 + 36%4/6 - 1\n",
    "5 + 0/6 - 1\n",
    "5 + 0.0 - 1\n",
    "5.0 - 1\n",
    "4.0\n",
    "'''"
   ]
  },
  {
   "cell_type": "code",
   "execution_count": 36,
   "id": "bde80ec5",
   "metadata": {},
   "outputs": [
    {
     "data": {
      "text/plain": [
       "6"
      ]
     },
     "execution_count": 36,
     "metadata": {},
     "output_type": "execute_result"
    }
   ],
   "source": [
    "5 + 14 // 9 "
   ]
  },
  {
   "cell_type": "code",
   "execution_count": 37,
   "id": "622876a8",
   "metadata": {},
   "outputs": [
    {
     "name": "stdout",
     "output_type": "stream",
     "text": [
      "10\n"
     ]
    }
   ],
   "source": [
    "#Assignment (=,+=,-=,*=,/=,%=,//=)\n",
    "num=10  \n",
    "print(num)"
   ]
  },
  {
   "cell_type": "code",
   "execution_count": 38,
   "id": "e67e41bc",
   "metadata": {},
   "outputs": [
    {
     "name": "stdout",
     "output_type": "stream",
     "text": [
      "30\n",
      "40\n"
     ]
    }
   ],
   "source": [
    "# Increase the value of num by 20\n",
    "num = num + 20\n",
    "print(num)\n",
    "\n",
    "# increase by 10\n",
    "num += 10  # num = num + 10\n",
    "print(num)"
   ]
  },
  {
   "cell_type": "code",
   "execution_count": 39,
   "id": "b3961577",
   "metadata": {},
   "outputs": [
    {
     "name": "stdout",
     "output_type": "stream",
     "text": [
      "A 10\n",
      "5\n"
     ]
    }
   ],
   "source": [
    "a = 10\n",
    "print(\"A\", a)\n",
    "# decrement by 5\n",
    "a -= 5 # a = a - 5\n",
    "print(a)"
   ]
  },
  {
   "cell_type": "code",
   "execution_count": 40,
   "id": "0cf31072",
   "metadata": {},
   "outputs": [
    {
     "name": "stdout",
     "output_type": "stream",
     "text": [
      "False\n",
      "True\n"
     ]
    }
   ],
   "source": [
    "#Relational (==,!=,<,<=,>,>=)  returns T or F\n",
    "a = 5\n",
    "b = 9\n",
    "# Equality ==\n",
    "print( a == b)\n",
    "\n",
    "# Inequlaity !=\n",
    "print( a != b)"
   ]
  },
  {
   "cell_type": "code",
   "execution_count": 41,
   "id": "aed58539",
   "metadata": {},
   "outputs": [
    {
     "name": "stdout",
     "output_type": "stream",
     "text": [
      "False\n",
      "True\n"
     ]
    }
   ],
   "source": [
    "# > < <= >=\n",
    "print(a>b)\n",
    "print(a<b)"
   ]
  },
  {
   "cell_type": "code",
   "execution_count": 42,
   "id": "19be17a7",
   "metadata": {},
   "outputs": [
    {
     "name": "stdout",
     "output_type": "stream",
     "text": [
      "False\n",
      "False\n"
     ]
    }
   ],
   "source": [
    "a = 'Morning'\n",
    "b = 'Afternoon'\n",
    "print(a == b) # == compares the value\n",
    "print(a is b)   #compares memory location\n"
   ]
  },
  {
   "cell_type": "code",
   "execution_count": 43,
   "id": "ff8b4511",
   "metadata": {},
   "outputs": [
    {
     "data": {
      "text/plain": [
       "True"
      ]
     },
     "execution_count": 43,
     "metadata": {},
     "output_type": "execute_result"
    }
   ],
   "source": [
    "11 >= 10"
   ]
  },
  {
   "cell_type": "markdown",
   "id": "d4092829",
   "metadata": {},
   "source": [
    "#Logical (or , and , not)\n",
    "'''\n",
    "0/False/None/empty string ---> considered as False by the logical operator\n",
    "'''\n",
    "\n",
    "and\n",
    "or\n",
    "not"
   ]
  },
  {
   "cell_type": "code",
   "execution_count": 45,
   "id": "8faed002",
   "metadata": {},
   "outputs": [
    {
     "name": "stdout",
     "output_type": "stream",
     "text": [
      "1\n"
     ]
    }
   ],
   "source": [
    "x = 1\n",
    "y = False\n",
    "\n",
    "print( x or y)"
   ]
  },
  {
   "cell_type": "code",
   "execution_count": 46,
   "id": "3a47e862",
   "metadata": {},
   "outputs": [
    {
     "name": "stdout",
     "output_type": "stream",
     "text": [
      "False\n",
      "Hello\n"
     ]
    }
   ],
   "source": [
    "str1 = \"Hello\"\n",
    "y = False\n",
    "str2 = \"Y\"\n",
    "print( str1 and y)\n",
    "print( str1 or y)"
   ]
  },
  {
   "cell_type": "code",
   "execution_count": 47,
   "id": "585e30fb",
   "metadata": {},
   "outputs": [
    {
     "name": "stdout",
     "output_type": "stream",
     "text": [
      "Exp1 True\n",
      "Exp2 False\n",
      "Result False\n"
     ]
    }
   ],
   "source": [
    "num1=23\n",
    "num2=2\n",
    "\n",
    "exp1 = num1>10\n",
    "exp2 = num2>20\n",
    "\n",
    "result = exp1 and exp2\n",
    "#         T         F\n",
    "\n",
    "print(\"Exp1\", exp1)\n",
    "print(\"Exp2\",  exp2)\n",
    "print(\"Result\",result)"
   ]
  },
  {
   "cell_type": "code",
   "execution_count": 48,
   "id": "222da461",
   "metadata": {},
   "outputs": [
    {
     "name": "stdout",
     "output_type": "stream",
     "text": [
      "Exp1 False\n",
      "Exp2 True\n",
      "Result True\n"
     ]
    }
   ],
   "source": [
    "num1=2\n",
    "num2=26\n",
    "\n",
    "exp1 = num1>10\n",
    "exp2 = num2>20\n",
    "\n",
    "result = exp1 or exp2\n",
    "#         F         T\n",
    "\n",
    "print(\"Exp1\", exp1)\n",
    "print(\"Exp2\",  exp2)\n",
    "print(\"Result\",result)"
   ]
  },
  {
   "cell_type": "code",
   "execution_count": 49,
   "id": "3b85ad2a",
   "metadata": {},
   "outputs": [
    {
     "name": "stdout",
     "output_type": "stream",
     "text": [
      "Exp1 False\n",
      "Exp2 False\n",
      "Exp3 True\n",
      "Result False\n"
     ]
    }
   ],
   "source": [
    "num1=2\n",
    "num2=2\n",
    "num3 = 45\n",
    "\n",
    "exp1 = num1>10\n",
    "exp2 = num2>20\n",
    "exp3 = num3>40\n",
    "\n",
    "result = exp1 or (exp2 and exp3)\n",
    "#         F         T\n",
    "\n",
    "print(\"Exp1\", exp1)\n",
    "print(\"Exp2\",  exp2)\n",
    "print(\"Exp3\", exp3)\n",
    "print(\"Result\",result)"
   ]
  },
  {
   "cell_type": "code",
   "execution_count": 50,
   "id": "1e7ea6b7",
   "metadata": {},
   "outputs": [
    {
     "name": "stdout",
     "output_type": "stream",
     "text": [
      "Exp3: True\n",
      "Exp2: False\n",
      "True\n"
     ]
    }
   ],
   "source": [
    "print(\"Exp3:\",exp3)\n",
    "print(\"Exp2:\", exp2)\n",
    "print(not exp2)"
   ]
  },
  {
   "cell_type": "markdown",
   "id": "1d70b519",
   "metadata": {},
   "source": [
    "### Type Conversion"
   ]
  },
  {
   "cell_type": "code",
   "execution_count": 51,
   "id": "11612513",
   "metadata": {},
   "outputs": [
    {
     "name": "stdout",
     "output_type": "stream",
     "text": [
      "30.2\n",
      "Hi...Hru?\n",
      "10\n",
      "11\n",
      "0\n",
      "1\n"
     ]
    }
   ],
   "source": [
    "# concatenation\n",
    "A=10  #int\n",
    "B=20.2  #float\n",
    "C='Hi...' # str-> int => not possible, possible only if intger value is stored in string\n",
    "D=\"Hru?\"\n",
    "E=False  #true=1, false=0\n",
    "F = True\n",
    "\n",
    "print(A+B)  #30.2\n",
    "print(C+D)  #Hi...Hru?\n",
    "print(A+E)  #10+0 = 10\n",
    "print(A+F)  #11\n",
    "print(int(E)) # 0\n",
    "print(int(F))  #1\n",
    "\n"
   ]
  },
  {
   "cell_type": "code",
   "execution_count": 52,
   "id": "8bb1f7e3",
   "metadata": {},
   "outputs": [
    {
     "data": {
      "text/plain": [
       "30"
      ]
     },
     "execution_count": 52,
     "metadata": {},
     "output_type": "execute_result"
    }
   ],
   "source": [
    "p = \"20\"\n",
    "q = 10\n",
    "\n",
    "int(p)+q"
   ]
  },
  {
   "cell_type": "code",
   "execution_count": 53,
   "id": "b6c65fba",
   "metadata": {},
   "outputs": [],
   "source": [
    "#int() float() str()\n",
    "#implicit and explicit"
   ]
  },
  {
   "cell_type": "code",
   "execution_count": 54,
   "id": "3e480902",
   "metadata": {},
   "outputs": [
    {
     "name": "stdout",
     "output_type": "stream",
     "text": [
      "c: 30.3\n",
      "Int of c: 30\n"
     ]
    },
    {
     "data": {
      "text/plain": [
       "23"
      ]
     },
     "execution_count": 54,
     "metadata": {},
     "output_type": "execute_result"
    }
   ],
   "source": [
    "a=10\n",
    "b=20.3\n",
    "c=a+b # float\n",
    "print(\"c:\",c)\n",
    "print('Int of c:', int(c))\n",
    "int(23.999999)"
   ]
  },
  {
   "cell_type": "code",
   "execution_count": 55,
   "id": "ad084114",
   "metadata": {
    "scrolled": true
   },
   "outputs": [
    {
     "data": {
      "text/plain": [
       "3.0"
      ]
     },
     "execution_count": 55,
     "metadata": {},
     "output_type": "execute_result"
    }
   ],
   "source": [
    "float(3)"
   ]
  },
  {
   "cell_type": "code",
   "execution_count": 56,
   "id": "11b3b009",
   "metadata": {},
   "outputs": [
    {
     "name": "stdout",
     "output_type": "stream",
     "text": [
      "<class 'str'>\n",
      "45\n"
     ]
    }
   ],
   "source": [
    "# int to str\n",
    "s=str(45)\n",
    "print(type(s))\n",
    "print(s)"
   ]
  },
  {
   "cell_type": "markdown",
   "id": "97f0b763",
   "metadata": {},
   "source": [
    "String to int and string to float"
   ]
  },
  {
   "cell_type": "code",
   "execution_count": 57,
   "id": "5671d99d",
   "metadata": {},
   "outputs": [
    {
     "name": "stdout",
     "output_type": "stream",
     "text": [
      "10\n"
     ]
    },
    {
     "data": {
      "text/plain": [
       "int"
      ]
     },
     "execution_count": 57,
     "metadata": {},
     "output_type": "execute_result"
    }
   ],
   "source": [
    "str1 = '10'\n",
    "int1 = int(str1)\n",
    "print(int1)\n",
    "type(int1)\n",
    "# str -> int, string must be storing only an integer value"
   ]
  },
  {
   "cell_type": "code",
   "execution_count": 58,
   "id": "58264874",
   "metadata": {},
   "outputs": [
    {
     "ename": "ValueError",
     "evalue": "invalid literal for int() with base 10: '10t'",
     "output_type": "error",
     "traceback": [
      "\u001b[1;31m---------------------------------------------------------------------------\u001b[0m",
      "\u001b[1;31mValueError\u001b[0m                                Traceback (most recent call last)",
      "\u001b[1;32m~\\AppData\\Local\\Temp/ipykernel_23924/1365715397.py\u001b[0m in \u001b[0;36m<module>\u001b[1;34m\u001b[0m\n\u001b[0;32m      1\u001b[0m \u001b[0mstr1\u001b[0m \u001b[1;33m=\u001b[0m \u001b[1;34m'10t'\u001b[0m\u001b[1;33m\u001b[0m\u001b[1;33m\u001b[0m\u001b[0m\n\u001b[1;32m----> 2\u001b[1;33m \u001b[0mint1\u001b[0m \u001b[1;33m=\u001b[0m \u001b[0mint\u001b[0m\u001b[1;33m(\u001b[0m\u001b[0mstr1\u001b[0m\u001b[1;33m)\u001b[0m\u001b[1;33m\u001b[0m\u001b[1;33m\u001b[0m\u001b[0m\n\u001b[0m\u001b[0;32m      3\u001b[0m \u001b[0mprint\u001b[0m\u001b[1;33m(\u001b[0m\u001b[0mint1\u001b[0m\u001b[1;33m)\u001b[0m\u001b[1;33m\u001b[0m\u001b[1;33m\u001b[0m\u001b[0m\n\u001b[0;32m      4\u001b[0m \u001b[0mtype\u001b[0m\u001b[1;33m(\u001b[0m\u001b[0mint1\u001b[0m\u001b[1;33m)\u001b[0m\u001b[1;33m\u001b[0m\u001b[1;33m\u001b[0m\u001b[0m\n",
      "\u001b[1;31mValueError\u001b[0m: invalid literal for int() with base 10: '10t'"
     ]
    }
   ],
   "source": [
    "str1 = '10t'\n",
    "int1 = int(str1)\n",
    "print(int1)\n",
    "type(int1)"
   ]
  },
  {
   "cell_type": "code",
   "execution_count": null,
   "id": "61b08f06",
   "metadata": {},
   "outputs": [],
   "source": [
    "str1 = '10.9'\n",
    "int1 = int(str1)\n",
    "print(int1)\n",
    "type(int1)"
   ]
  },
  {
   "cell_type": "code",
   "execution_count": 59,
   "id": "727b0a58",
   "metadata": {},
   "outputs": [
    {
     "name": "stdout",
     "output_type": "stream",
     "text": [
      "10.9\n"
     ]
    },
    {
     "data": {
      "text/plain": [
       "float"
      ]
     },
     "execution_count": 59,
     "metadata": {},
     "output_type": "execute_result"
    }
   ],
   "source": [
    "str2 = \"10.9\"\n",
    "float1 = float(str2)\n",
    "print(float1)\n",
    "type(float1)"
   ]
  },
  {
   "cell_type": "code",
   "execution_count": 60,
   "id": "8b9fd8a5",
   "metadata": {
    "scrolled": true
   },
   "outputs": [
    {
     "ename": "ValueError",
     "evalue": "could not convert string to float: '10r'",
     "output_type": "error",
     "traceback": [
      "\u001b[1;31m---------------------------------------------------------------------------\u001b[0m",
      "\u001b[1;31mValueError\u001b[0m                                Traceback (most recent call last)",
      "\u001b[1;32m~\\AppData\\Local\\Temp/ipykernel_23924/48505052.py\u001b[0m in \u001b[0;36m<module>\u001b[1;34m\u001b[0m\n\u001b[0;32m      1\u001b[0m \u001b[0mstr2\u001b[0m \u001b[1;33m=\u001b[0m \u001b[1;34m\"10r\"\u001b[0m\u001b[1;33m\u001b[0m\u001b[1;33m\u001b[0m\u001b[0m\n\u001b[1;32m----> 2\u001b[1;33m \u001b[0mfloat1\u001b[0m \u001b[1;33m=\u001b[0m \u001b[0mfloat\u001b[0m\u001b[1;33m(\u001b[0m\u001b[0mstr2\u001b[0m\u001b[1;33m)\u001b[0m\u001b[1;33m\u001b[0m\u001b[1;33m\u001b[0m\u001b[0m\n\u001b[0m\u001b[0;32m      3\u001b[0m \u001b[0mprint\u001b[0m\u001b[1;33m(\u001b[0m\u001b[0mfloat1\u001b[0m\u001b[1;33m)\u001b[0m\u001b[1;33m\u001b[0m\u001b[1;33m\u001b[0m\u001b[0m\n\u001b[0;32m      4\u001b[0m \u001b[0mtype\u001b[0m\u001b[1;33m(\u001b[0m\u001b[0mfloat1\u001b[0m\u001b[1;33m)\u001b[0m\u001b[1;33m\u001b[0m\u001b[1;33m\u001b[0m\u001b[0m\n",
      "\u001b[1;31mValueError\u001b[0m: could not convert string to float: '10r'"
     ]
    }
   ],
   "source": [
    "str2 = \"10r\"\n",
    "float1 = float(str2)\n",
    "print(float1)\n",
    "type(float1)"
   ]
  },
  {
   "cell_type": "code",
   "execution_count": 61,
   "id": "b1cffbaa",
   "metadata": {},
   "outputs": [
    {
     "name": "stdout",
     "output_type": "stream",
     "text": [
      "10.0\n"
     ]
    },
    {
     "data": {
      "text/plain": [
       "float"
      ]
     },
     "execution_count": 61,
     "metadata": {},
     "output_type": "execute_result"
    }
   ],
   "source": [
    "str2 = \"10\"\n",
    "float1 = float(str2)\n",
    "print(float1)\n",
    "type(float1)\n",
    "# str -> float: string should contain numeric value( int or float)"
   ]
  },
  {
   "cell_type": "markdown",
   "id": "f0ee3fab",
   "metadata": {},
   "source": [
    "### Commenting in Python"
   ]
  },
  {
   "cell_type": "code",
   "execution_count": 62,
   "id": "f00d9a15",
   "metadata": {},
   "outputs": [
    {
     "name": "stdout",
     "output_type": "stream",
     "text": [
      "black\n"
     ]
    }
   ],
   "source": [
    "# This is for single line comment\n",
    "print(\"black\")"
   ]
  },
  {
   "cell_type": "code",
   "execution_count": 63,
   "id": "10dde36f",
   "metadata": {},
   "outputs": [
    {
     "name": "stdout",
     "output_type": "stream",
     "text": [
      "Blue\n"
     ]
    }
   ],
   "source": [
    "'''\n",
    "this\n",
    "is\n",
    "for\n",
    "multiple\n",
    "line \n",
    "comments\n",
    "'''\n",
    "print(\"Blue\")"
   ]
  },
  {
   "cell_type": "code",
   "execution_count": 64,
   "id": "cbe457f5",
   "metadata": {},
   "outputs": [
    {
     "name": "stdout",
     "output_type": "stream",
     "text": [
      "Pink\n"
     ]
    }
   ],
   "source": [
    "\"\"\"\n",
    "this\n",
    "is\n",
    "also\n",
    "for\n",
    "multiple\n",
    "line\n",
    "comments\n",
    "\"\"\"\n",
    "print(\"Pink\")"
   ]
  }
 ],
 "metadata": {
  "kernelspec": {
   "display_name": "Python 3 (ipykernel)",
   "language": "python",
   "name": "python3"
  },
  "language_info": {
   "codemirror_mode": {
    "name": "ipython",
    "version": 3
   },
   "file_extension": ".py",
   "mimetype": "text/x-python",
   "name": "python",
   "nbconvert_exporter": "python",
   "pygments_lexer": "ipython3",
   "version": "3.11.2"
  }
 },
 "nbformat": 4,
 "nbformat_minor": 5
}
